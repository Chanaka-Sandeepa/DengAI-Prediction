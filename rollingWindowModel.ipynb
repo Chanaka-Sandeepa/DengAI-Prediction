{
 "cells": [
  {
   "cell_type": "code",
   "execution_count": 1,
   "metadata": {},
   "outputs": [
    {
     "name": "stderr",
     "output_type": "stream",
     "text": [
      "[MLENS] backend: threading\n"
     ]
    }
   ],
   "source": [
    "import matplotlib as mpl\n",
    "import matplotlib.pyplot as plt\n",
    "import numpy as np\n",
    "import pandas as pd\n",
    "import seaborn as sns\n",
    "import gc\n",
    "\n",
    "from sklearn.dummy import DummyRegressor\n",
    "from sklearn.linear_model import LinearRegression\n",
    "from sklearn.neighbors import KNeighborsRegressor\n",
    "from sklearn.svm import SVR\n",
    "from sklearn.ensemble import GradientBoostingRegressor\n",
    "from sklearn.ensemble import RandomForestRegressor\n",
    "from sklearn.neural_network import MLPRegressor\n",
    "# Inputs\n",
    "from xgboost import XGBRegressor\n",
    "from sklearn.linear_model import Lasso, ElasticNet\n",
    "from sklearn.ensemble import RandomForestRegressor\n",
    "from sklearn.preprocessing import StandardScaler\n",
    "\n",
    "from sklearn.metrics import mean_absolute_error\n",
    "\n",
    "from sklearn.model_selection import train_test_split\n",
    "from sklearn.model_selection import cross_val_score\n",
    "from sklearn.model_selection import GridSearchCV\n",
    "\n",
    "from sklearn.preprocessing import Imputer\n",
    "\n",
    "# Data viz\n",
    "from mlens.visualization import corr_X_y, corrmat\n",
    "\n",
    "# Model evaluation\n",
    "from mlens.metrics import make_scorer\n",
    "from mlens.model_selection import Evaluator\n",
    "\n",
    "# Ensemble\n",
    "from mlens.ensemble import SuperLearner\n",
    "\n",
    "from scipy.stats import uniform, randint\n",
    "from matplotlib.pyplot import show\n",
    "\n",
    "\n",
    "%matplotlib inline"
   ]
  },
  {
   "cell_type": "code",
   "execution_count": 2,
   "metadata": {},
   "outputs": [],
   "source": [
    "pd.set_option('display.max_columns', 100)\n",
    "\n",
    "mpl.rc(group='figure', figsize=(10,8))\n",
    "plt.style.use('seaborn')"
   ]
  },
  {
   "cell_type": "code",
   "execution_count": 3,
   "metadata": {},
   "outputs": [
    {
     "name": "stdout",
     "output_type": "stream",
     "text": [
      "X_train: (1456, 24)\n",
      "y_train: (1456, 1)\n",
      "X_test: (416, 24)\n"
     ]
    }
   ],
   "source": [
    "X_train = pd.read_csv('dataset/dengue_features_train.csv')\n",
    "X_train.week_start_date = pd.to_datetime(X_train.week_start_date)\n",
    "print(f'X_train: {X_train.shape}')\n",
    "\n",
    "y_train = pd.read_csv('dataset/dengue_labels_train.csv', \n",
    "                      usecols=['total_cases'])\n",
    "print(f'y_train: {y_train.shape}')\n",
    "\n",
    "X_test = pd.read_csv('dataset/dengue_features_test.csv')\n",
    "X_test.week_start_date = pd.to_datetime(X_test.week_start_date)\n",
    "print(f'X_test: {X_test.shape}')"
   ]
  },
  {
   "cell_type": "markdown",
   "metadata": {},
   "source": [
    "Combine train and test dataset"
   ]
  },
  {
   "cell_type": "code",
   "execution_count": 4,
   "metadata": {},
   "outputs": [
    {
     "name": "stdout",
     "output_type": "stream",
     "text": [
      "Xy_train: (1456, 25)\n"
     ]
    },
    {
     "data": {
      "text/html": [
       "<div>\n",
       "<style scoped>\n",
       "    .dataframe tbody tr th:only-of-type {\n",
       "        vertical-align: middle;\n",
       "    }\n",
       "\n",
       "    .dataframe tbody tr th {\n",
       "        vertical-align: top;\n",
       "    }\n",
       "\n",
       "    .dataframe thead th {\n",
       "        text-align: right;\n",
       "    }\n",
       "</style>\n",
       "<table border=\"1\" class=\"dataframe\">\n",
       "  <thead>\n",
       "    <tr style=\"text-align: right;\">\n",
       "      <th></th>\n",
       "      <th>total_cases</th>\n",
       "      <th>city</th>\n",
       "      <th>year</th>\n",
       "      <th>weekofyear</th>\n",
       "      <th>week_start_date</th>\n",
       "      <th>ndvi_ne</th>\n",
       "      <th>ndvi_nw</th>\n",
       "      <th>ndvi_se</th>\n",
       "      <th>ndvi_sw</th>\n",
       "      <th>precipitation_amt_mm</th>\n",
       "      <th>reanalysis_air_temp_k</th>\n",
       "      <th>reanalysis_avg_temp_k</th>\n",
       "      <th>reanalysis_dew_point_temp_k</th>\n",
       "      <th>reanalysis_max_air_temp_k</th>\n",
       "      <th>reanalysis_min_air_temp_k</th>\n",
       "      <th>reanalysis_precip_amt_kg_per_m2</th>\n",
       "      <th>reanalysis_relative_humidity_percent</th>\n",
       "      <th>reanalysis_sat_precip_amt_mm</th>\n",
       "      <th>reanalysis_specific_humidity_g_per_kg</th>\n",
       "      <th>reanalysis_tdtr_k</th>\n",
       "      <th>station_avg_temp_c</th>\n",
       "      <th>station_diur_temp_rng_c</th>\n",
       "      <th>station_max_temp_c</th>\n",
       "      <th>station_min_temp_c</th>\n",
       "      <th>station_precip_mm</th>\n",
       "    </tr>\n",
       "  </thead>\n",
       "  <tbody>\n",
       "    <tr>\n",
       "      <th>0</th>\n",
       "      <td>4</td>\n",
       "      <td>sj</td>\n",
       "      <td>1990</td>\n",
       "      <td>18</td>\n",
       "      <td>1990-04-30</td>\n",
       "      <td>0.122600</td>\n",
       "      <td>0.103725</td>\n",
       "      <td>0.198483</td>\n",
       "      <td>0.177617</td>\n",
       "      <td>12.42</td>\n",
       "      <td>297.572857</td>\n",
       "      <td>297.742857</td>\n",
       "      <td>292.414286</td>\n",
       "      <td>299.8</td>\n",
       "      <td>295.9</td>\n",
       "      <td>32.00</td>\n",
       "      <td>73.365714</td>\n",
       "      <td>12.42</td>\n",
       "      <td>14.012857</td>\n",
       "      <td>2.628571</td>\n",
       "      <td>25.442857</td>\n",
       "      <td>6.900000</td>\n",
       "      <td>29.4</td>\n",
       "      <td>20.0</td>\n",
       "      <td>16.0</td>\n",
       "    </tr>\n",
       "    <tr>\n",
       "      <th>1</th>\n",
       "      <td>5</td>\n",
       "      <td>sj</td>\n",
       "      <td>1990</td>\n",
       "      <td>19</td>\n",
       "      <td>1990-05-07</td>\n",
       "      <td>0.169900</td>\n",
       "      <td>0.142175</td>\n",
       "      <td>0.162357</td>\n",
       "      <td>0.155486</td>\n",
       "      <td>22.82</td>\n",
       "      <td>298.211429</td>\n",
       "      <td>298.442857</td>\n",
       "      <td>293.951429</td>\n",
       "      <td>300.9</td>\n",
       "      <td>296.4</td>\n",
       "      <td>17.94</td>\n",
       "      <td>77.368571</td>\n",
       "      <td>22.82</td>\n",
       "      <td>15.372857</td>\n",
       "      <td>2.371429</td>\n",
       "      <td>26.714286</td>\n",
       "      <td>6.371429</td>\n",
       "      <td>31.7</td>\n",
       "      <td>22.2</td>\n",
       "      <td>8.6</td>\n",
       "    </tr>\n",
       "    <tr>\n",
       "      <th>2</th>\n",
       "      <td>4</td>\n",
       "      <td>sj</td>\n",
       "      <td>1990</td>\n",
       "      <td>20</td>\n",
       "      <td>1990-05-14</td>\n",
       "      <td>0.032250</td>\n",
       "      <td>0.172967</td>\n",
       "      <td>0.157200</td>\n",
       "      <td>0.170843</td>\n",
       "      <td>34.54</td>\n",
       "      <td>298.781429</td>\n",
       "      <td>298.878571</td>\n",
       "      <td>295.434286</td>\n",
       "      <td>300.5</td>\n",
       "      <td>297.3</td>\n",
       "      <td>26.10</td>\n",
       "      <td>82.052857</td>\n",
       "      <td>34.54</td>\n",
       "      <td>16.848571</td>\n",
       "      <td>2.300000</td>\n",
       "      <td>26.714286</td>\n",
       "      <td>6.485714</td>\n",
       "      <td>32.2</td>\n",
       "      <td>22.8</td>\n",
       "      <td>41.4</td>\n",
       "    </tr>\n",
       "    <tr>\n",
       "      <th>3</th>\n",
       "      <td>3</td>\n",
       "      <td>sj</td>\n",
       "      <td>1990</td>\n",
       "      <td>21</td>\n",
       "      <td>1990-05-21</td>\n",
       "      <td>0.128633</td>\n",
       "      <td>0.245067</td>\n",
       "      <td>0.227557</td>\n",
       "      <td>0.235886</td>\n",
       "      <td>15.36</td>\n",
       "      <td>298.987143</td>\n",
       "      <td>299.228571</td>\n",
       "      <td>295.310000</td>\n",
       "      <td>301.4</td>\n",
       "      <td>297.0</td>\n",
       "      <td>13.90</td>\n",
       "      <td>80.337143</td>\n",
       "      <td>15.36</td>\n",
       "      <td>16.672857</td>\n",
       "      <td>2.428571</td>\n",
       "      <td>27.471429</td>\n",
       "      <td>6.771429</td>\n",
       "      <td>33.3</td>\n",
       "      <td>23.3</td>\n",
       "      <td>4.0</td>\n",
       "    </tr>\n",
       "    <tr>\n",
       "      <th>4</th>\n",
       "      <td>6</td>\n",
       "      <td>sj</td>\n",
       "      <td>1990</td>\n",
       "      <td>22</td>\n",
       "      <td>1990-05-28</td>\n",
       "      <td>0.196200</td>\n",
       "      <td>0.262200</td>\n",
       "      <td>0.251200</td>\n",
       "      <td>0.247340</td>\n",
       "      <td>7.52</td>\n",
       "      <td>299.518571</td>\n",
       "      <td>299.664286</td>\n",
       "      <td>295.821429</td>\n",
       "      <td>301.9</td>\n",
       "      <td>297.5</td>\n",
       "      <td>12.20</td>\n",
       "      <td>80.460000</td>\n",
       "      <td>7.52</td>\n",
       "      <td>17.210000</td>\n",
       "      <td>3.014286</td>\n",
       "      <td>28.942857</td>\n",
       "      <td>9.371429</td>\n",
       "      <td>35.0</td>\n",
       "      <td>23.9</td>\n",
       "      <td>5.8</td>\n",
       "    </tr>\n",
       "  </tbody>\n",
       "</table>\n",
       "</div>"
      ],
      "text/plain": [
       "   total_cases city  year  weekofyear week_start_date   ndvi_ne   ndvi_nw  \\\n",
       "0            4   sj  1990          18      1990-04-30  0.122600  0.103725   \n",
       "1            5   sj  1990          19      1990-05-07  0.169900  0.142175   \n",
       "2            4   sj  1990          20      1990-05-14  0.032250  0.172967   \n",
       "3            3   sj  1990          21      1990-05-21  0.128633  0.245067   \n",
       "4            6   sj  1990          22      1990-05-28  0.196200  0.262200   \n",
       "\n",
       "    ndvi_se   ndvi_sw  precipitation_amt_mm  reanalysis_air_temp_k  \\\n",
       "0  0.198483  0.177617                 12.42             297.572857   \n",
       "1  0.162357  0.155486                 22.82             298.211429   \n",
       "2  0.157200  0.170843                 34.54             298.781429   \n",
       "3  0.227557  0.235886                 15.36             298.987143   \n",
       "4  0.251200  0.247340                  7.52             299.518571   \n",
       "\n",
       "   reanalysis_avg_temp_k  reanalysis_dew_point_temp_k  \\\n",
       "0             297.742857                   292.414286   \n",
       "1             298.442857                   293.951429   \n",
       "2             298.878571                   295.434286   \n",
       "3             299.228571                   295.310000   \n",
       "4             299.664286                   295.821429   \n",
       "\n",
       "   reanalysis_max_air_temp_k  reanalysis_min_air_temp_k  \\\n",
       "0                      299.8                      295.9   \n",
       "1                      300.9                      296.4   \n",
       "2                      300.5                      297.3   \n",
       "3                      301.4                      297.0   \n",
       "4                      301.9                      297.5   \n",
       "\n",
       "   reanalysis_precip_amt_kg_per_m2  reanalysis_relative_humidity_percent  \\\n",
       "0                            32.00                             73.365714   \n",
       "1                            17.94                             77.368571   \n",
       "2                            26.10                             82.052857   \n",
       "3                            13.90                             80.337143   \n",
       "4                            12.20                             80.460000   \n",
       "\n",
       "   reanalysis_sat_precip_amt_mm  reanalysis_specific_humidity_g_per_kg  \\\n",
       "0                         12.42                              14.012857   \n",
       "1                         22.82                              15.372857   \n",
       "2                         34.54                              16.848571   \n",
       "3                         15.36                              16.672857   \n",
       "4                          7.52                              17.210000   \n",
       "\n",
       "   reanalysis_tdtr_k  station_avg_temp_c  station_diur_temp_rng_c  \\\n",
       "0           2.628571           25.442857                 6.900000   \n",
       "1           2.371429           26.714286                 6.371429   \n",
       "2           2.300000           26.714286                 6.485714   \n",
       "3           2.428571           27.471429                 6.771429   \n",
       "4           3.014286           28.942857                 9.371429   \n",
       "\n",
       "   station_max_temp_c  station_min_temp_c  station_precip_mm  \n",
       "0                29.4                20.0               16.0  \n",
       "1                31.7                22.2                8.6  \n",
       "2                32.2                22.8               41.4  \n",
       "3                33.3                23.3                4.0  \n",
       "4                35.0                23.9                5.8  "
      ]
     },
     "execution_count": 4,
     "metadata": {},
     "output_type": "execute_result"
    }
   ],
   "source": [
    "Xy_train = pd.concat([y_train, X_train], axis=1) \n",
    "print(f'Xy_train: {Xy_train.shape}')\n",
    "Xy_train.head()"
   ]
  },
  {
   "cell_type": "markdown",
   "metadata": {},
   "source": [
    "Split sj and iq"
   ]
  },
  {
   "cell_type": "code",
   "execution_count": 5,
   "metadata": {},
   "outputs": [
    {
     "name": "stdout",
     "output_type": "stream",
     "text": [
      "Xy_sj: (936, 25)\n",
      "Xy_iq: (520, 25)\n"
     ]
    }
   ],
   "source": [
    "Xy_sj = Xy_train.loc[Xy_train.city == 'sj', :]\n",
    "Xy_iq = Xy_train.loc[Xy_train.city == 'iq', :]\n",
    "print(f'Xy_sj: {Xy_sj.shape}')\n",
    "print(f'Xy_iq: {Xy_iq.shape}')"
   ]
  },
  {
   "cell_type": "code",
   "execution_count": 6,
   "metadata": {},
   "outputs": [
    {
     "data": {
      "text/plain": [
       "total_cases                              1.000000\n",
       "weekofyear                               0.287134\n",
       "reanalysis_specific_humidity_g_per_kg    0.207947\n",
       "reanalysis_dew_point_temp_k              0.203774\n",
       "station_avg_temp_c                       0.196617\n",
       "reanalysis_max_air_temp_k                0.194532\n",
       "station_max_temp_c                       0.189901\n",
       "reanalysis_min_air_temp_k                0.187943\n",
       "reanalysis_air_temp_k                    0.181917\n",
       "station_min_temp_c                       0.177012\n",
       "reanalysis_avg_temp_k                    0.175267\n",
       "reanalysis_relative_humidity_percent     0.144045\n",
       "reanalysis_precip_amt_kg_per_m2          0.107457\n",
       "ndvi_nw                                  0.075307\n",
       "reanalysis_sat_precip_amt_mm             0.060211\n",
       "precipitation_amt_mm                     0.060211\n",
       "station_precip_mm                        0.051759\n",
       "ndvi_ne                                  0.037639\n",
       "station_diur_temp_rng_c                  0.034630\n",
       "ndvi_se                                  0.001113\n",
       "ndvi_sw                                 -0.000333\n",
       "reanalysis_tdtr_k                       -0.067600\n",
       "year                                    -0.212690\n",
       "Name: total_cases, dtype: float64"
      ]
     },
     "execution_count": 6,
     "metadata": {},
     "output_type": "execute_result"
    }
   ],
   "source": [
    "Xy_sj.corr().total_cases.sort_values(ascending=False)\n"
   ]
  },
  {
   "cell_type": "code",
   "execution_count": 7,
   "metadata": {},
   "outputs": [
    {
     "data": {
      "text/plain": [
       "total_cases                              1.000000\n",
       "reanalysis_specific_humidity_g_per_kg    0.236476\n",
       "reanalysis_dew_point_temp_k              0.230401\n",
       "reanalysis_min_air_temp_k                0.214514\n",
       "station_min_temp_c                       0.211702\n",
       "year                                     0.179451\n",
       "reanalysis_relative_humidity_percent     0.130083\n",
       "station_avg_temp_c                       0.113070\n",
       "reanalysis_precip_amt_kg_per_m2          0.101171\n",
       "reanalysis_air_temp_k                    0.097098\n",
       "precipitation_amt_mm                     0.090171\n",
       "reanalysis_sat_precip_amt_mm             0.090171\n",
       "reanalysis_avg_temp_k                    0.079872\n",
       "station_max_temp_c                       0.075279\n",
       "station_precip_mm                        0.042976\n",
       "ndvi_sw                                  0.032999\n",
       "ndvi_ne                                  0.020215\n",
       "ndvi_nw                                 -0.009586\n",
       "weekofyear                              -0.011850\n",
       "ndvi_se                                 -0.041067\n",
       "reanalysis_max_air_temp_k               -0.056474\n",
       "station_diur_temp_rng_c                 -0.058230\n",
       "reanalysis_tdtr_k                       -0.134425\n",
       "Name: total_cases, dtype: float64"
      ]
     },
     "execution_count": 7,
     "metadata": {},
     "output_type": "execute_result"
    }
   ],
   "source": [
    "Xy_iq.corr().total_cases.sort_values(ascending=False)\n"
   ]
  },
  {
   "cell_type": "code",
   "execution_count": 8,
   "metadata": {},
   "outputs": [
    {
     "data": {
      "image/png": "[encoded data removed]",
      "text/plain": [
       "<Figure size 576x396 with 1 Axes>"
      ]
     },
     "metadata": {},
     "output_type": "display_data"
    }
   ],
   "source": [
    "Xy_sj.total_cases.plot(kind='line')\n",
    "plt.xlabel('Week Number')\n",
    "plt.ylabel('Total Cases')\n",
    "plt.tight_layout()"
   ]
  },
  {
   "cell_type": "code",
   "execution_count": 9,
   "metadata": {},
   "outputs": [
    {
     "data": {
      "image/png": "[encoded data removed]",
      "text/plain": [
       "<Figure size 576x396 with 1 Axes>"
      ]
     },
     "metadata": {},
     "output_type": "display_data"
    }
   ],
   "source": [
    "Xy_sj.groupby(['weekofyear']).total_cases.sum().plot(kind='line')\n",
    "plt.ylabel('total cases')\n",
    "plt.title('Total Cases by Week of Year (San Juan)')\n",
    "plt.tight_layout()"
   ]
  },
  {
   "cell_type": "code",
   "execution_count": 10,
   "metadata": {},
   "outputs": [
    {
     "data": {
      "image/png": "[encoded data removed]",
      "text/plain": [
       "<Figure size 576x396 with 1 Axes>"
      ]
     },
     "metadata": {},
     "output_type": "display_data"
    }
   ],
   "source": [
    "Xy_sj.reanalysis_dew_point_temp_k.plot(kind='line')\n",
    "plt.xlabel('Week Number')\n",
    "plt.ylabel('Dew Point Temp (k) ')\n",
    "plt.tight_layout()"
   ]
  },
  {
   "cell_type": "code",
   "execution_count": 11,
   "metadata": {},
   "outputs": [],
   "source": [
    "# to restore data into orginal order\n",
    "X_train = X_train.reset_index()\n",
    "X_test = X_test.reset_index()"
   ]
  },
  {
   "cell_type": "code",
   "execution_count": 12,
   "metadata": {},
   "outputs": [
    {
     "name": "stdout",
     "output_type": "stream",
     "text": [
      "X_train_sj: (936, 25)\n",
      "X_train_iq: (520, 25)\n",
      "y_train_sj: (936, 1)\n",
      "y_train_iq: (520, 1)\n"
     ]
    }
   ],
   "source": [
    "X_train_sj = X_train.loc[X_train.city == 'sj', :].copy()\n",
    "X_train_iq = X_train.loc[X_train.city == 'iq', :].copy()\n",
    "\n",
    "y_train_sj = y_train.loc[X_train.city == 'sj', :].copy()\n",
    "y_train_iq = y_train.loc[X_train.city == 'iq', :].copy()\n",
    "\n",
    "print(f'X_train_sj: {X_train_sj.shape}')\n",
    "print(f'X_train_iq: {X_train_iq.shape}')\n",
    "print(f'y_train_sj: {y_train_sj.shape}')\n",
    "print(f'y_train_iq: {y_train_iq.shape}')"
   ]
  },
  {
   "cell_type": "code",
   "execution_count": 13,
   "metadata": {},
   "outputs": [
    {
     "name": "stdout",
     "output_type": "stream",
     "text": [
      "X_test_sj: (260, 25)\n",
      "X_test_iq: (156, 25)\n"
     ]
    }
   ],
   "source": [
    "# split test data\n",
    "X_test_sj = X_test.loc[X_test.city == 'sj', :].copy()\n",
    "X_test_iq = X_test.loc[X_test.city == 'iq', :].copy()\n",
    "print(f'X_test_sj: {X_test_sj.shape}')\n",
    "print(f'X_test_iq: {X_test_iq.shape}')"
   ]
  },
  {
   "cell_type": "code",
   "execution_count": 14,
   "metadata": {},
   "outputs": [
    {
     "name": "stdout",
     "output_type": "stream",
     "text": [
      "drop_features:\n",
      " ['ndvi_ne', 'ndvi_nw', 'ndvi_se', 'ndvi_sw', 'precipitation_amt_mm', 'reanalysis_air_temp_k', 'reanalysis_avg_temp_k', 'reanalysis_max_air_temp_k', 'reanalysis_min_air_temp_k', 'reanalysis_relative_humidity_percent', 'reanalysis_sat_precip_amt_mm', 'reanalysis_tdtr_k', 'station_diur_temp_rng_c', 'station_precip_mm']\n"
     ]
    }
   ],
   "source": [
    "keys = ['city', 'year', 'weekofyear']\n",
    "\n",
    "all_features = ['city', 'year', 'weekofyear', 'week_start_date', 'ndvi_ne', 'ndvi_nw',\n",
    "       'ndvi_se', 'ndvi_sw', 'precipitation_amt_mm', 'reanalysis_air_temp_k',\n",
    "       'reanalysis_avg_temp_k', 'reanalysis_dew_point_temp_k',\n",
    "       'reanalysis_max_air_temp_k', 'reanalysis_min_air_temp_k',\n",
    "       'reanalysis_precip_amt_kg_per_m2',\n",
    "       'reanalysis_relative_humidity_percent', 'reanalysis_sat_precip_amt_mm',\n",
    "       'reanalysis_specific_humidity_g_per_kg', 'reanalysis_tdtr_k',\n",
    "       'station_avg_temp_c', 'station_diur_temp_rng_c', 'station_max_temp_c',\n",
    "       'station_min_temp_c', 'station_precip_mm']\n",
    "\n",
    "sj_features = ['reanalysis_dew_point_temp_k', 'reanalysis_precip_amt_kg_per_m2', 'reanalysis_specific_humidity_g_per_kg', \n",
    "            'station_avg_temp_c',  'station_max_temp_c', 'station_min_temp_c']\n",
    "iq_features = ['reanalysis_dew_point_temp_k', 'reanalysis_specific_humidity_g_per_kg', \n",
    "            'station_avg_temp_c', 'station_min_temp_c']\n",
    "features = ['reanalysis_dew_point_temp_k', 'reanalysis_precip_amt_kg_per_m2', 'reanalysis_specific_humidity_g_per_kg', \n",
    "            'station_avg_temp_c',  'station_max_temp_c', 'station_min_temp_c']\n",
    "\n",
    "new_features = ['recent_mean_dew_point', 'recent_mean_spec_humid', 'recent_sum_precip']\n",
    "\n",
    "time_series_features = ['week_start_date']\n",
    "\n",
    "drop_features = list(set(all_features) - set(features) - set(keys) - set(time_series_features))\n",
    "\n",
    "drop_sj_features = list(set(all_features) - set(sj_features) - set(keys) - set(time_series_features))\n",
    "\n",
    "drop_iq_features = list(set(all_features) - set(iq_features) - set(keys) - set(time_series_features))\n",
    "\n",
    "print('drop_features:\\n', sorted(drop_features))"
   ]
  },
  {
   "cell_type": "code",
   "execution_count": 15,
   "metadata": {},
   "outputs": [],
   "source": [
    "# impute missing values and redundant columns\n",
    "impute_columns = ['reanalysis_avg_temp_c', 'reanalysis_max_air_temp_c', \n",
    "                  'reanalysis_min_air_temp_c']\n",
    "\n",
    "def impute_redundant_features(df):\n",
    "    # Convert temperature from kelvin to celcius so we can attempt to correct \n",
    "    # for the difference between the two redundant temperature features \n",
    "    # (i.e. reanalysis and station).\n",
    "    df['reanalysis_avg_temp_c'] = df.reanalysis_avg_temp_k - 273.15\n",
    "    df.reanalysis_avg_temp_c -= (df.reanalysis_avg_temp_c - df.station_avg_temp_c).mean()\n",
    "    df.loc[df.station_avg_temp_c.isnull(), 'station_avg_temp_c'] = df.reanalysis_avg_temp_c\n",
    "\n",
    "    df['reanalysis_max_air_temp_c'] = df.reanalysis_max_air_temp_k - 273.15\n",
    "    df.reanalysis_max_air_temp_c -= (df.reanalysis_max_air_temp_c - df.station_max_temp_c).mean()\n",
    "    df.loc[df.station_max_temp_c.isnull(), 'station_max_temp_c'] = df.reanalysis_max_air_temp_c\n",
    "\n",
    "    df['reanalysis_min_air_temp_c'] = df.reanalysis_min_air_temp_k - 273.15\n",
    "    df.reanalysis_min_air_temp_c -= (df.reanalysis_min_air_temp_c - df.station_min_temp_c).mean()\n",
    "    df.loc[df.station_min_temp_c.isnull(), 'station_min_temp_c'] = df.reanalysis_min_air_temp_c\n",
    "    \n",
    "    # Drop the temporary columns that we just added\n",
    "    df.drop(impute_columns, axis=1, inplace=True)\n",
    "    \n",
    "    return df"
   ]
  },
  {
   "cell_type": "code",
   "execution_count": 16,
   "metadata": {},
   "outputs": [],
   "source": [
    "X_train_sj = impute_redundant_features(X_train_sj)\n",
    "X_train_iq = impute_redundant_features(X_train_iq)\n",
    "\n",
    "X_test_sj = impute_redundant_features(X_test_sj)\n",
    "X_test_iq = impute_redundant_features(X_test_iq)"
   ]
  },
  {
   "cell_type": "code",
   "execution_count": 17,
   "metadata": {},
   "outputs": [],
   "source": [
    "def impute_missing_values(df, imputer):\n",
    "    imputer.fit(df[features])\n",
    "    df[features] = imputer.transform(df[features])\n",
    "    return df"
   ]
  },
  {
   "cell_type": "code",
   "execution_count": 18,
   "metadata": {},
   "outputs": [],
   "source": [
    "imputer_sj = Imputer(strategy='mean')\n",
    "X_train_sj = impute_missing_values(X_train_sj, imputer_sj)\n",
    "X_test_sj = impute_missing_values(X_test_sj, imputer_sj)\n",
    "\n",
    "imputer_iq = Imputer(strategy='mean')\n",
    "X_train_iq = impute_missing_values(X_train_iq, imputer_iq)\n",
    "X_test_iq = impute_missing_values(X_test_iq, imputer_iq)"
   ]
  },
  {
   "cell_type": "markdown",
   "metadata": {},
   "source": [
    "Feature extraction"
   ]
  },
  {
   "cell_type": "code",
   "execution_count": 19,
   "metadata": {},
   "outputs": [],
   "source": [
    "def add_time_series_features(df, window):\n",
    "    df.set_index('week_start_date', inplace=True)\n",
    "\n",
    "    roll_df = df.rolling(window=window, min_periods=1)\n",
    "    df['recent_mean_dew_point'] = roll_df.reanalysis_dew_point_temp_k.mean()\n",
    "    df['recent_mean_spec_humid'] = roll_df.reanalysis_specific_humidity_g_per_kg.mean()\n",
    "    df['recent_sum_precip'] = roll_df.reanalysis_precip_amt_kg_per_m2.sum()\n",
    "    \n",
    "    df.reset_index(inplace=True)    \n",
    "    return df"
   ]
  },
  {
   "cell_type": "code",
   "execution_count": 20,
   "metadata": {},
   "outputs": [
    {
     "name": "stdout",
     "output_type": "stream",
     "text": [
      "X_train_sj: (936, 28)\n",
      "X_train_iq: (520, 28)\n",
      "X_test_sj: (260, 28)\n",
      "X_test_iq: (156, 28)\n"
     ]
    }
   ],
   "source": [
    "X_train_sj = add_time_series_features(X_train_sj, window=100)\n",
    "X_train_iq = add_time_series_features(X_train_iq, window=30)\n",
    "X_test_sj = add_time_series_features(X_test_sj, window=100)\n",
    "X_test_iq = add_time_series_features(X_test_iq, window=30)\n",
    "\n",
    "print(f'X_train_sj: {X_train_sj.shape}')\n",
    "print(f'X_train_iq: {X_train_iq.shape}')\n",
    "print(f'X_test_sj: {X_test_sj.shape}')\n",
    "print(f'X_test_iq: {X_test_iq.shape}')"
   ]
  },
  {
   "cell_type": "code",
   "execution_count": 21,
   "metadata": {},
   "outputs": [],
   "source": [
    "def drop_unnecessary_features(df):\n",
    "    df.drop(drop_features, axis=1, inplace=True)\n",
    "    df.drop(time_series_features, axis=1, inplace=True)\n",
    "    return df"
   ]
  },
  {
   "cell_type": "code",
   "execution_count": 22,
   "metadata": {},
   "outputs": [],
   "source": [
    "def drop_sj_unnecessary_features(df):\n",
    "    df.drop(drop_sj_features, axis=1, inplace=True)\n",
    "    df.drop(time_series_features, axis=1, inplace=True)\n",
    "    return df"
   ]
  },
  {
   "cell_type": "code",
   "execution_count": 23,
   "metadata": {},
   "outputs": [],
   "source": [
    "def drop_iq_unnecessary_features(df):\n",
    "    df.drop(drop_iq_features, axis=1, inplace=True)\n",
    "    df.drop(time_series_features, axis=1, inplace=True)\n",
    "    return df"
   ]
  },
  {
   "cell_type": "code",
   "execution_count": 24,
   "metadata": {},
   "outputs": [
    {
     "name": "stdout",
     "output_type": "stream",
     "text": [
      "X_train_sj: (936, 13)\n",
      "X_train_iq: (520, 13)\n",
      "X_test_sj: (260, 13)\n",
      "X_test_iq: (156, 13)\n"
     ]
    }
   ],
   "source": [
    "X_train_sj = drop_unnecessary_features(X_train_sj)\n",
    "X_train_iq = drop_unnecessary_features(X_train_iq)\n",
    "X_test_sj = drop_unnecessary_features(X_test_sj)\n",
    "X_test_iq = drop_unnecessary_features(X_test_iq)\n",
    "\n",
    "print(f'X_train_sj: {X_train_sj.shape}')\n",
    "print(f'X_train_iq: {X_train_iq.shape}')\n",
    "print(f'X_test_sj: {X_test_sj.shape}')\n",
    "print(f'X_test_iq: {X_test_iq.shape}')"
   ]
  },
  {
   "cell_type": "code",
   "execution_count": 25,
   "metadata": {},
   "outputs": [],
   "source": [
    "# normalize data\n",
    "def normalize(feature):\n",
    "    return (feature - feature.mean()) / feature.std()"
   ]
  },
  {
   "cell_type": "code",
   "execution_count": 26,
   "metadata": {},
   "outputs": [],
   "source": [
    "features_to_normalize = features + new_features\n",
    "\n",
    "X_train_sj[features_to_normalize] = X_train_sj[features_to_normalize].apply(normalize, axis=0)\n",
    "X_train_iq[features_to_normalize] = X_train_iq[features_to_normalize].apply(normalize, axis=0)\n",
    "X_test_sj[features_to_normalize] = X_test_sj[features_to_normalize].apply(normalize, axis=0)\n",
    "X_test_iq[features_to_normalize] = X_test_iq[features_to_normalize].apply(normalize, axis=0)"
   ]
  },
  {
   "cell_type": "code",
   "execution_count": 27,
   "metadata": {},
   "outputs": [
    {
     "data": {
      "text/html": [
       "<div>\n",
       "<style scoped>\n",
       "    .dataframe tbody tr th:only-of-type {\n",
       "        vertical-align: middle;\n",
       "    }\n",
       "\n",
       "    .dataframe tbody tr th {\n",
       "        vertical-align: top;\n",
       "    }\n",
       "\n",
       "    .dataframe thead th {\n",
       "        text-align: right;\n",
       "    }\n",
       "</style>\n",
       "<table border=\"1\" class=\"dataframe\">\n",
       "  <thead>\n",
       "    <tr style=\"text-align: right;\">\n",
       "      <th></th>\n",
       "      <th>city</th>\n",
       "      <th>year</th>\n",
       "      <th>weekofyear</th>\n",
       "      <th>reanalysis_dew_point_temp_k</th>\n",
       "      <th>reanalysis_precip_amt_kg_per_m2</th>\n",
       "      <th>reanalysis_specific_humidity_g_per_kg</th>\n",
       "      <th>station_avg_temp_c</th>\n",
       "      <th>station_max_temp_c</th>\n",
       "      <th>station_min_temp_c</th>\n",
       "      <th>recent_mean_dew_point</th>\n",
       "      <th>recent_mean_spec_humid</th>\n",
       "      <th>recent_sum_precip</th>\n",
       "    </tr>\n",
       "    <tr>\n",
       "      <th>index</th>\n",
       "      <th></th>\n",
       "      <th></th>\n",
       "      <th></th>\n",
       "      <th></th>\n",
       "      <th></th>\n",
       "      <th></th>\n",
       "      <th></th>\n",
       "      <th></th>\n",
       "      <th></th>\n",
       "      <th></th>\n",
       "      <th></th>\n",
       "      <th></th>\n",
       "    </tr>\n",
       "  </thead>\n",
       "  <tbody>\n",
       "    <tr>\n",
       "      <th>0</th>\n",
       "      <td>sj</td>\n",
       "      <td>1990</td>\n",
       "      <td>18</td>\n",
       "      <td>-1.722306</td>\n",
       "      <td>0.043211</td>\n",
       "      <td>-1.632200</td>\n",
       "      <td>-1.108260</td>\n",
       "      <td>-1.289862</td>\n",
       "      <td>-1.732105</td>\n",
       "      <td>-9.463572</td>\n",
       "      <td>-8.929043</td>\n",
       "      <td>-3.733679</td>\n",
       "    </tr>\n",
       "    <tr>\n",
       "      <th>1</th>\n",
       "      <td>sj</td>\n",
       "      <td>1990</td>\n",
       "      <td>19</td>\n",
       "      <td>-0.740042</td>\n",
       "      <td>-0.352694</td>\n",
       "      <td>-0.758112</td>\n",
       "      <td>-0.207129</td>\n",
       "      <td>0.053770</td>\n",
       "      <td>-0.266841</td>\n",
       "      <td>-6.794441</td>\n",
       "      <td>-6.566003</td>\n",
       "      <td>-3.710537</td>\n",
       "    </tr>\n",
       "    <tr>\n",
       "      <th>2</th>\n",
       "      <td>sj</td>\n",
       "      <td>1990</td>\n",
       "      <td>20</td>\n",
       "      <td>0.207532</td>\n",
       "      <td>-0.122923</td>\n",
       "      <td>0.190347</td>\n",
       "      <td>-0.207129</td>\n",
       "      <td>0.345864</td>\n",
       "      <td>0.132776</td>\n",
       "      <td>-4.188151</td>\n",
       "      <td>-4.068925</td>\n",
       "      <td>-3.676869</td>\n",
       "    </tr>\n",
       "    <tr>\n",
       "      <th>3</th>\n",
       "      <td>sj</td>\n",
       "      <td>1990</td>\n",
       "      <td>21</td>\n",
       "      <td>0.128111</td>\n",
       "      <td>-0.466453</td>\n",
       "      <td>0.077414</td>\n",
       "      <td>0.329500</td>\n",
       "      <td>0.988471</td>\n",
       "      <td>0.465791</td>\n",
       "      <td>-2.992913</td>\n",
       "      <td>-2.973040</td>\n",
       "      <td>-3.658939</td>\n",
       "    </tr>\n",
       "    <tr>\n",
       "      <th>4</th>\n",
       "      <td>sj</td>\n",
       "      <td>1990</td>\n",
       "      <td>22</td>\n",
       "      <td>0.454924</td>\n",
       "      <td>-0.514322</td>\n",
       "      <td>0.422642</td>\n",
       "      <td>1.372383</td>\n",
       "      <td>1.981591</td>\n",
       "      <td>0.865408</td>\n",
       "      <td>-1.920547</td>\n",
       "      <td>-1.942189</td>\n",
       "      <td>-3.643202</td>\n",
       "    </tr>\n",
       "  </tbody>\n",
       "</table>\n",
       "</div>"
      ],
      "text/plain": [
       "      city  year  weekofyear  reanalysis_dew_point_temp_k  \\\n",
       "index                                                       \n",
       "0       sj  1990          18                    -1.722306   \n",
       "1       sj  1990          19                    -0.740042   \n",
       "2       sj  1990          20                     0.207532   \n",
       "3       sj  1990          21                     0.128111   \n",
       "4       sj  1990          22                     0.454924   \n",
       "\n",
       "       reanalysis_precip_amt_kg_per_m2  reanalysis_specific_humidity_g_per_kg  \\\n",
       "index                                                                           \n",
       "0                             0.043211                              -1.632200   \n",
       "1                            -0.352694                              -0.758112   \n",
       "2                            -0.122923                               0.190347   \n",
       "3                            -0.466453                               0.077414   \n",
       "4                            -0.514322                               0.422642   \n",
       "\n",
       "       station_avg_temp_c  station_max_temp_c  station_min_temp_c  \\\n",
       "index                                                               \n",
       "0               -1.108260           -1.289862           -1.732105   \n",
       "1               -0.207129            0.053770           -0.266841   \n",
       "2               -0.207129            0.345864            0.132776   \n",
       "3                0.329500            0.988471            0.465791   \n",
       "4                1.372383            1.981591            0.865408   \n",
       "\n",
       "       recent_mean_dew_point  recent_mean_spec_humid  recent_sum_precip  \n",
       "index                                                                    \n",
       "0                  -9.463572               -8.929043          -3.733679  \n",
       "1                  -6.794441               -6.566003          -3.710537  \n",
       "2                  -4.188151               -4.068925          -3.676869  \n",
       "3                  -2.992913               -2.973040          -3.658939  \n",
       "4                  -1.920547               -1.942189          -3.643202  "
      ]
     },
     "execution_count": 27,
     "metadata": {},
     "output_type": "execute_result"
    }
   ],
   "source": [
    "# restore dataset to original index\n",
    "X_train = pd.concat([X_train_sj, X_train_iq], axis=0)\n",
    "X_train.set_index('index', inplace=True)\n",
    "X_train.head()"
   ]
  },
  {
   "cell_type": "code",
   "execution_count": 28,
   "metadata": {},
   "outputs": [
    {
     "name": "stdout",
     "output_type": "stream",
     "text": [
      "X_sj: (936, 12)\n",
      "y_sj: (936, 1)\n",
      "X_iq: (520, 12)\n",
      "y_iq: (520, 1)\n"
     ]
    }
   ],
   "source": [
    "X_sj, y_sj = X_train.loc[X_train.city == 'sj', :], y_train.loc[X_train.city == 'sj', :]\n",
    "X_iq, y_iq = X_train.loc[X_train.city == 'iq', :], y_train.loc[X_train.city == 'iq', :]\n",
    "print(f'X_sj: {X_sj.shape}')\n",
    "print(f'y_sj: {y_sj.shape}')\n",
    "print(f'X_iq: {X_iq.shape}')\n",
    "print(f'y_iq: {y_iq.shape}')"
   ]
  },
  {
   "cell_type": "code",
   "execution_count": 29,
   "metadata": {},
   "outputs": [
    {
     "name": "stdout",
     "output_type": "stream",
     "text": [
      "X_train_sj: (748, 12)\n",
      "y_train_sj: (748, 1)\n",
      "X_cross_sj: (188, 12)\n",
      "y_cross_sj: (188, 1)\n"
     ]
    }
   ],
   "source": [
    "X_train_sj, X_cross_sj, y_train_sj, y_cross_sj = train_test_split(X_sj, \n",
    "                                                                  y_sj,\n",
    "                                                                  test_size=0.2,\n",
    "                                                                  stratify=X_sj.weekofyear)\n",
    "\n",
    "print(f'X_train_sj: {X_train_sj.shape}')\n",
    "print(f'y_train_sj: {y_train_sj.shape}')\n",
    "print(f'X_cross_sj: {X_cross_sj.shape}')\n",
    "print(f'y_cross_sj: {y_cross_sj.shape}')"
   ]
  },
  {
   "cell_type": "code",
   "execution_count": 30,
   "metadata": {},
   "outputs": [
    {
     "name": "stdout",
     "output_type": "stream",
     "text": [
      "X_train_iq: (416, 12)\n",
      "y_train_iq: (416, 1)\n",
      "X_cross_iq: (104, 12)\n",
      "y_cross_iq: (104, 1)\n"
     ]
    }
   ],
   "source": [
    "X_train_iq, X_cross_iq, y_train_iq, y_cross_iq = train_test_split(X_iq, \n",
    "                                                                  y_iq, \n",
    "                                                                  test_size=0.2,\n",
    "                                                                  stratify=X_iq.weekofyear)\n",
    "\n",
    "print(f'X_train_iq: {X_train_iq.shape}')\n",
    "print(f'y_train_iq: {y_train_iq.shape}')\n",
    "print(f'X_cross_iq: {X_cross_iq.shape}')\n",
    "print(f'y_cross_iq: {y_cross_iq.shape}')"
   ]
  },
  {
   "cell_type": "code",
   "execution_count": 31,
   "metadata": {},
   "outputs": [],
   "source": [
    "def drop_unnecessary_columns(df):\n",
    "    return df[features + new_features + ['weekofyear']]"
   ]
  },
  {
   "cell_type": "code",
   "execution_count": 32,
   "metadata": {},
   "outputs": [],
   "source": [
    "def drop_sj_unnecessary_columns(df):\n",
    "    return df[sj_features + new_features + ['weekofyear']]"
   ]
  },
  {
   "cell_type": "code",
   "execution_count": 33,
   "metadata": {},
   "outputs": [],
   "source": [
    "def drop_iq_unnecessary_columns(df):\n",
    "    return df[iq_features + new_features + ['weekofyear']]"
   ]
  },
  {
   "cell_type": "code",
   "execution_count": 34,
   "metadata": {},
   "outputs": [
    {
     "name": "stdout",
     "output_type": "stream",
     "text": [
      "X_train_iq: (416, 9)\n",
      "y_train_iq: (416, 1)\n",
      "X_cross_iq: (104, 9)\n",
      "y_cross_iq: (104, 1)\n"
     ]
    }
   ],
   "source": [
    "X_train_sj = drop_unnecessary_columns(X_train_sj)\n",
    "X_train_iq = drop_unnecessary_columns(X_train_iq)\n",
    "X_cross_sj = drop_unnecessary_columns(X_cross_sj)\n",
    "X_cross_iq = drop_unnecessary_columns(X_cross_iq)\n",
    "\n",
    "X_train_sj.drop(['station_min_temp_c'], axis=1, inplace=True)\n",
    "X_train_iq.drop(['station_min_temp_c'], axis=1, inplace=True)\n",
    "X_cross_sj.drop(['station_min_temp_c'], axis=1, inplace=True)\n",
    "X_cross_iq.drop(['station_min_temp_c'], axis=1, inplace=True)\n",
    "# X_train_sj = drop_sj_unnecessary_columns(X_train_sj)\n",
    "# X_train_iq = drop_iq_unnecessary_columns(X_train_iq)\n",
    "# X_cross_sj = drop_sj_unnecessary_columns(X_cross_sj)\n",
    "# X_cross_iq = drop_iq_unnecessary_columns(X_cross_iq)\n",
    "\n",
    "print(f'X_train_iq: {X_train_iq.shape}')\n",
    "print(f'y_train_iq: {y_train_iq.shape}')\n",
    "print(f'X_cross_iq: {X_cross_iq.shape}')\n",
    "print(f'y_cross_iq: {y_cross_iq.shape}')"
   ]
  },
  {
   "cell_type": "code",
   "execution_count": 35,
   "metadata": {},
   "outputs": [],
   "source": [
    "def train_predict_score(reg, X, y):\n",
    "    reg.fit(X, y)\n",
    "    y_pred = reg.predict(X)\n",
    "    return mean_absolute_error(y_true=y, y_pred=y_pred)"
   ]
  },
  {
   "cell_type": "code",
   "execution_count": 36,
   "metadata": {},
   "outputs": [
    {
     "name": "stdout",
     "output_type": "stream",
     "text": [
      "San Juan:  28.2088\n",
      "Iquitos:  6.7938\n"
     ]
    }
   ],
   "source": [
    "reg = DummyRegressor(strategy='mean')\n",
    "print('San Juan: ', round(train_predict_score(reg, X_train_sj, y_train_sj), 4))\n",
    "print('Iquitos: ', round(train_predict_score(reg, X_train_iq, y_train_iq), 4))"
   ]
  },
  {
   "cell_type": "code",
   "execution_count": 37,
   "metadata": {},
   "outputs": [],
   "source": [
    "def train_cross_val_score(reg, X, y, scoring='neg_mean_absolute_error'):\n",
    "    reg.fit(X, y)\n",
    "    scores = np.abs(cross_val_score(reg, X, y, scoring=scoring))\n",
    "    print(\"Scores: {}\".format(scores))\n",
    "    print(\"Avg Score: {}\".format(scores.mean()))"
   ]
  },
  {
   "cell_type": "markdown",
   "metadata": {},
   "source": [
    "Liner Regression"
   ]
  },
  {
   "cell_type": "code",
   "execution_count": 38,
   "metadata": {},
   "outputs": [],
   "source": [
    "# reg = LinearRegression(n_jobs=-1)\n",
    "# print('San Juan:')\n",
    "# train_cross_val_score(reg, X_train_sj, y_train_sj)\n",
    "# print('\\nIquitos:')\n",
    "# train_cross_val_score(reg, X_train_iq, y_train_iq)"
   ]
  },
  {
   "cell_type": "markdown",
   "metadata": {},
   "source": [
    "KNN"
   ]
  },
  {
   "cell_type": "code",
   "execution_count": 39,
   "metadata": {},
   "outputs": [],
   "source": [
    "# reg = KNeighborsRegressor(n_jobs=-1)\n",
    "# print('San Juan:')\n",
    "# train_cross_val_score(reg, X_train_sj, y_train_sj)\n",
    "# print('\\nIquitos:')\n",
    "# train_cross_val_score(reg, X_train_iq, y_train_iq)"
   ]
  },
  {
   "cell_type": "markdown",
   "metadata": {},
   "source": [
    "SVM"
   ]
  },
  {
   "cell_type": "code",
   "execution_count": 40,
   "metadata": {},
   "outputs": [],
   "source": [
    "# reg = SVR(kernel='linear')\n",
    "# print('San Juan:')\n",
    "# train_cross_val_score(reg, X_train_sj, y_train_sj.total_cases)\n",
    "# print('\\nIquitos:')\n",
    "# train_cross_val_score(reg, X_train_iq, y_train_iq.total_cases)"
   ]
  },
  {
   "cell_type": "code",
   "execution_count": 41,
   "metadata": {},
   "outputs": [],
   "source": [
    "# reg = SVR(kernel='rbf')\n",
    "# print('San Juan:')\n",
    "# train_cross_val_score(reg, X_train_sj, y_train_sj.total_cases)\n",
    "# print('\\nIquitos:')\n",
    "# train_cross_val_score(reg, X_train_iq, y_train_iq.total_cases)"
   ]
  },
  {
   "cell_type": "markdown",
   "metadata": {},
   "source": [
    "Gradient boosting"
   ]
  },
  {
   "cell_type": "code",
   "execution_count": 42,
   "metadata": {},
   "outputs": [],
   "source": [
    "# reg = GradientBoostingRegressor(criterion='mae', random_state=67)\n",
    "# print('San Juan:')\n",
    "# train_cross_val_score(reg, X_train_sj, y_train_sj.total_cases)\n",
    "# print('\\nIquitos:')\n",
    "# train_cross_val_score(reg, X_train_iq, y_train_iq.total_cases)"
   ]
  },
  {
   "cell_type": "markdown",
   "metadata": {},
   "source": [
    "MLP"
   ]
  },
  {
   "cell_type": "code",
   "execution_count": 43,
   "metadata": {},
   "outputs": [],
   "source": [
    "# reg = MLPRegressor(max_iter=3000, random_state=67)\n",
    "# print('San Juan:')\n",
    "# train_cross_val_score(reg, X_train_sj, y_train_sj.total_cases)\n",
    "# print('\\nIquitos:')\n",
    "# train_cross_val_score(reg, X_train_iq, y_train_iq.total_cases)"
   ]
  },
  {
   "cell_type": "markdown",
   "metadata": {},
   "source": [
    "Random Forest"
   ]
  },
  {
   "cell_type": "code",
   "execution_count": 44,
   "metadata": {},
   "outputs": [],
   "source": [
    "# reg = RandomForestRegressor(criterion='mae', n_jobs=-1, random_state=67)\n",
    "# print('San Juan:')\n",
    "# train_cross_val_score(reg, X_train_sj, y_train_sj.total_cases)\n",
    "# print('\\nIquitos:')\n",
    "# train_cross_val_score(reg, X_train_iq, y_train_iq.total_cases)"
   ]
  },
  {
   "cell_type": "code",
   "execution_count": 45,
   "metadata": {},
   "outputs": [],
   "source": [
    "def grid_search_cross_val(reg, X, y, param_grid, scoring='neg_mean_absolute_error'):\n",
    "    grid = GridSearchCV(reg, param_grid=param_grid, scoring=scoring)\n",
    "    grid.fit(X, y)\n",
    "    print(\"Best score: {}\".format(np.abs(grid.best_score_)))\n",
    "    print(\"Best params: {}\".format(grid.best_params_))"
   ]
  },
  {
   "cell_type": "markdown",
   "metadata": {},
   "source": [
    "Gradiaent boosting and RF with grid search"
   ]
  },
  {
   "cell_type": "code",
   "execution_count": 46,
   "metadata": {},
   "outputs": [],
   "source": [
    "# %%time\n",
    "# reg = GradientBoostingRegressor(random_state=67)\n",
    "\n",
    "# param_grid = [\n",
    "#     {'learning_rate': [0.1, 0.3, 1.0, 3.0], 'n_estimators': [10, 30, 100, 300, 500], \n",
    "#      'max_depth': [3, 5, 7, 9]}\n",
    "# ]\n",
    "\n",
    "# grid_search_cross_val(reg, X_train_sj, y_train_sj.total_cases, param_grid)\n",
    "# grid_search_cross_val(reg, X_train_iq, y_train_iq.total_cases, param_grid)"
   ]
  },
  {
   "cell_type": "code",
   "execution_count": 47,
   "metadata": {},
   "outputs": [],
   "source": [
    "# %%time\n",
    "# reg = RandomForestRegressor(random_state=67)\n",
    "\n",
    "# param_grid = [\n",
    "#     {\n",
    "#       'n_estimators': [10, 30, 100, 300, 500], \n",
    "#       'max_depth': [3, 5, 7, None]\n",
    "#     } \n",
    "# ]\n",
    "\n",
    "# grid_search_cross_val(reg, X_train_sj, y_train_sj.total_cases, param_grid)\n",
    "# grid_search_cross_val(reg, X_train_iq, y_train_iq.total_cases, param_grid)"
   ]
  },
  {
   "cell_type": "markdown",
   "metadata": {},
   "source": [
    "Cross validation from outside data"
   ]
  },
  {
   "cell_type": "code",
   "execution_count": 48,
   "metadata": {},
   "outputs": [],
   "source": [
    "def cross_validate_out_of_sample(reg, X_train, y_train, X_cross, y_cross):\n",
    "    reg.fit(X_train, y_train)\n",
    "    y_pred = reg.predict(X_cross)\n",
    "    return mean_absolute_error(y_true=y_cross, y_pred=y_pred)"
   ]
  },
  {
   "cell_type": "code",
   "execution_count": 49,
   "metadata": {},
   "outputs": [
    {
     "data": {
      "text/plain": [
       "17.4995708181034"
      ]
     },
     "execution_count": 49,
     "metadata": {},
     "output_type": "execute_result"
    }
   ],
   "source": [
    "# GB sj\n",
    "reg_sj = GradientBoostingRegressor(learning_rate=0.1, max_depth=7, n_estimators=500, random_state=67)\n",
    "cross_validate_out_of_sample(reg_sj, X_train_sj, y_train_sj.total_cases, X_cross_sj, y_cross_sj.total_cases)\n"
   ]
  },
  {
   "cell_type": "code",
   "execution_count": 50,
   "metadata": {},
   "outputs": [
    {
     "data": {
      "text/plain": [
       "5.480372889777614"
      ]
     },
     "execution_count": 50,
     "metadata": {},
     "output_type": "execute_result"
    }
   ],
   "source": [
    "# GB iq\n",
    "reg_iq = GradientBoostingRegressor(learning_rate=0.1, max_depth=7, n_estimators=500, random_state=67)\n",
    "cross_validate_out_of_sample(reg_iq, X_train_iq, y_train_iq.total_cases, X_cross_iq, y_cross_iq.total_cases)"
   ]
  },
  {
   "cell_type": "code",
   "execution_count": 105,
   "metadata": {},
   "outputs": [
    {
     "data": {
      "text/plain": [
       "21.2842220615166"
      ]
     },
     "execution_count": 105,
     "metadata": {},
     "output_type": "execute_result"
    }
   ],
   "source": [
    "# RF sj\n",
    "reg_sj = RandomForestRegressor(max_depth=5, n_estimators=500, random_state=67)\n",
    "cross_validate_out_of_sample(reg_sj, X_train_sj, y_train_sj.total_cases, X_cross_sj, y_cross_sj.total_cases)\n",
    "\n"
   ]
  },
  {
   "cell_type": "code",
   "execution_count": 52,
   "metadata": {},
   "outputs": [
    {
     "data": {
      "text/plain": [
       "5.4544180859845675"
      ]
     },
     "execution_count": 52,
     "metadata": {},
     "output_type": "execute_result"
    }
   ],
   "source": [
    "# # RF iq\n",
    "reg_iq = RandomForestRegressor(max_depth=5, n_estimators=500, random_state=67)\n",
    "cross_validate_out_of_sample(reg_iq, X_train_iq, y_train_iq.total_cases, X_cross_iq, y_cross_iq.total_cases)"
   ]
  },
  {
   "cell_type": "markdown",
   "metadata": {},
   "source": [
    "Make submission file"
   ]
  },
  {
   "cell_type": "code",
   "execution_count": 53,
   "metadata": {},
   "outputs": [],
   "source": [
    "predict_sj = X_test_sj[keys].copy()\n",
    "predict_iq = X_test_iq[keys].copy()"
   ]
  },
  {
   "cell_type": "code",
   "execution_count": 54,
   "metadata": {},
   "outputs": [
    {
     "name": "stdout",
     "output_type": "stream",
     "text": [
      "X_sj: (936, 10)\n",
      "X_iq: (520, 10)\n",
      "X_test_sj: (260, 10)\n",
      "X_test_iq: (156, 10)\n"
     ]
    }
   ],
   "source": [
    "X_sj = drop_unnecessary_columns(X_sj)\n",
    "X_iq = drop_unnecessary_columns(X_iq)\n",
    "X_test_sj = drop_unnecessary_columns(X_test_sj)\n",
    "X_test_iq = drop_unnecessary_columns(X_test_iq)\n",
    "\n",
    "\n",
    "print(f'X_sj: {X_sj.shape}')\n",
    "print(f'X_iq: {X_iq.shape}')\n",
    "print(f'X_test_sj: {X_test_sj.shape}')\n",
    "print(f'X_test_iq: {X_test_iq.shape}')"
   ]
  },
  {
   "cell_type": "code",
   "execution_count": 55,
   "metadata": {},
   "outputs": [
    {
     "data": {
      "text/plain": [
       "GradientBoostingRegressor(alpha=0.9, criterion='friedman_mse', init=None,\n",
       "             learning_rate=0.1, loss='ls', max_depth=5, max_features=None,\n",
       "             max_leaf_nodes=None, min_impurity_decrease=0.0,\n",
       "             min_impurity_split=None, min_samples_leaf=1,\n",
       "             min_samples_split=2, min_weight_fraction_leaf=0.0,\n",
       "             n_estimators=500, presort='auto', random_state=67,\n",
       "             subsample=1.0, verbose=0, warm_start=False)"
      ]
     },
     "execution_count": 55,
     "metadata": {},
     "output_type": "execute_result"
    }
   ],
   "source": [
    "# Train models with full dataset\n",
    "reg_sj = GradientBoostingRegressor(learning_rate=0.1, max_depth=5, n_estimators=500, random_state=67)\n",
    "reg_sj.fit(X_sj, y_sj.total_cases)"
   ]
  },
  {
   "cell_type": "code",
   "execution_count": 56,
   "metadata": {},
   "outputs": [
    {
     "data": {
      "text/plain": [
       "Text(0,0.5,'Cases')"
      ]
     },
     "execution_count": 56,
     "metadata": {},
     "output_type": "execute_result"
    },
    {
     "data": {
      "image/png": "[encoded data removed]",
      "text/plain": [
       "<Figure size 1152x432 with 1 Axes>"
      ]
     },
     "metadata": {},
     "output_type": "display_data"
    }
   ],
   "source": [
    "predsj = reg_sj.predict(X_sj)\n",
    "pred_cases = pd.Series(predsj)\n",
    "pred_cases = pred_cases.apply(lambda x: 0 if x < 1 else x)\n",
    "\n",
    "plt.figure(figsize=(16, 6))\n",
    "plt.plot(y_sj.index, y_sj.total_cases, label = 'Actual Cases', linewidth = 3, alpha = .75)\n",
    "plt.plot(pred_cases.index, pred_cases, label = 'Predicted Cases', linewidth = 3)\n",
    "# print (mean_absolute_error(pred_cases[:520], cases_iq))\n",
    "\n",
    "plt.legend(fontsize=25)\n",
    "plt.xlabel('Date', fontsize = 25)\n",
    "plt.ylabel('Cases', fontsize = 25)"
   ]
  },
  {
   "cell_type": "code",
   "execution_count": 57,
   "metadata": {},
   "outputs": [
    {
     "data": {
      "text/plain": [
       "GradientBoostingRegressor(alpha=0.9, criterion='friedman_mse', init=None,\n",
       "             learning_rate=0.1, loss='ls', max_depth=5, max_features=None,\n",
       "             max_leaf_nodes=None, min_impurity_decrease=0.0,\n",
       "             min_impurity_split=None, min_samples_leaf=1,\n",
       "             min_samples_split=2, min_weight_fraction_leaf=0.0,\n",
       "             n_estimators=500, presort='auto', random_state=67,\n",
       "             subsample=1.0, verbose=0, warm_start=False)"
      ]
     },
     "execution_count": 57,
     "metadata": {},
     "output_type": "execute_result"
    }
   ],
   "source": [
    "reg_iq = GradientBoostingRegressor(learning_rate=0.1, max_depth=5, n_estimators=500, random_state=67)\n",
    "reg_iq.fit(X_iq, y_iq.total_cases)"
   ]
  },
  {
   "cell_type": "code",
   "execution_count": 58,
   "metadata": {},
   "outputs": [],
   "source": [
    "# reg_sj = RandomForestRegressor(max_depth=None, n_estimators=500, random_state=67)\n",
    "# reg_sj.fit(X_sj, y_sj.total_cases)"
   ]
  },
  {
   "cell_type": "code",
   "execution_count": 59,
   "metadata": {},
   "outputs": [],
   "source": [
    "# reg_iq = RandomForestRegressor(max_depth=None, n_estimators=500, random_state=67)\n",
    "# reg_iq.fit(X_iq, y_iq.total_cases)"
   ]
  },
  {
   "cell_type": "markdown",
   "metadata": {},
   "source": [
    "Create ensemble model"
   ]
  },
  {
   "cell_type": "code",
   "execution_count": 60,
   "metadata": {},
   "outputs": [],
   "source": [
    "SEED = 148\n",
    "np.random.seed(SEED)"
   ]
  },
  {
   "cell_type": "code",
   "execution_count": 61,
   "metadata": {},
   "outputs": [],
   "source": [
    "# # We consider the following models (or base learners)\n",
    "# gb = GradientBoostingRegressor(learning_rate=0.1, max_depth=5, n_estimators=500, random_state=67)\n",
    "# ls = Lasso(alpha=1e-6, normalize=True)\n",
    "# el = ElasticNet(alpha=1e-6, normalize=True)\n",
    "# rf = RandomForestRegressor(random_state=SEED)\n",
    "# lr = LinearRegression()\n",
    "\n",
    "# base_learners = [\n",
    "#     ('ls', ls), ('el', el), ('rf', rf), ('gb', gb), ('lr', lr)\n",
    "# ]"
   ]
  },
  {
   "cell_type": "code",
   "execution_count": 62,
   "metadata": {},
   "outputs": [],
   "source": [
    "# P = np.zeros((X_cross_sj.shape[0], len(base_learners)))\n",
    "# P = pd.DataFrame(P, columns=[e for e, _ in base_learners])\n",
    "\n",
    "# for est_name, est in base_learners:\n",
    "#     est.fit(X_train_sj, y_train_sj.total_cases)\n",
    "#     p = est.predict(X_cross_sj)\n",
    "#     P.loc[:, est_name] = p\n",
    "#     print(\"%3s : %.4f\" % (est_name, mean_absolute_error(y_cross_sj.total_cases, p)))"
   ]
  },
  {
   "cell_type": "code",
   "execution_count": 63,
   "metadata": {},
   "outputs": [],
   "source": [
    "# reg_iq = RandomForestRegressor(max_depth=None, n_estimators=500, random_state=67)\n",
    "# reg_iq.fit(X_iq, y_iq.total_cases)"
   ]
  },
  {
   "cell_type": "code",
   "execution_count": 64,
   "metadata": {},
   "outputs": [
    {
     "data": {
      "text/html": [
       "<div>\n",
       "<style scoped>\n",
       "    .dataframe tbody tr th:only-of-type {\n",
       "        vertical-align: middle;\n",
       "    }\n",
       "\n",
       "    .dataframe tbody tr th {\n",
       "        vertical-align: top;\n",
       "    }\n",
       "\n",
       "    .dataframe thead th {\n",
       "        text-align: right;\n",
       "    }\n",
       "</style>\n",
       "<table border=\"1\" class=\"dataframe\">\n",
       "  <thead>\n",
       "    <tr style=\"text-align: right;\">\n",
       "      <th></th>\n",
       "      <th>city</th>\n",
       "      <th>year</th>\n",
       "      <th>weekofyear</th>\n",
       "      <th>total_cases</th>\n",
       "    </tr>\n",
       "  </thead>\n",
       "  <tbody>\n",
       "    <tr>\n",
       "      <th>0</th>\n",
       "      <td>sj</td>\n",
       "      <td>2008</td>\n",
       "      <td>18</td>\n",
       "      <td>7</td>\n",
       "    </tr>\n",
       "    <tr>\n",
       "      <th>1</th>\n",
       "      <td>sj</td>\n",
       "      <td>2008</td>\n",
       "      <td>19</td>\n",
       "      <td>7</td>\n",
       "    </tr>\n",
       "    <tr>\n",
       "      <th>2</th>\n",
       "      <td>sj</td>\n",
       "      <td>2008</td>\n",
       "      <td>20</td>\n",
       "      <td>7</td>\n",
       "    </tr>\n",
       "    <tr>\n",
       "      <th>3</th>\n",
       "      <td>sj</td>\n",
       "      <td>2008</td>\n",
       "      <td>21</td>\n",
       "      <td>7</td>\n",
       "    </tr>\n",
       "    <tr>\n",
       "      <th>4</th>\n",
       "      <td>sj</td>\n",
       "      <td>2008</td>\n",
       "      <td>22</td>\n",
       "      <td>7</td>\n",
       "    </tr>\n",
       "  </tbody>\n",
       "</table>\n",
       "</div>"
      ],
      "text/plain": [
       "  city  year  weekofyear  total_cases\n",
       "0   sj  2008          18            7\n",
       "1   sj  2008          19            7\n",
       "2   sj  2008          20            7\n",
       "3   sj  2008          21            7\n",
       "4   sj  2008          22            7"
      ]
     },
     "execution_count": 64,
     "metadata": {},
     "output_type": "execute_result"
    }
   ],
   "source": [
    "y_sj_pred = reg_sj.predict(X_test_sj)\n",
    "predict_sj['total_cases'] = y_sj_pred.round().astype(int)\n",
    "predict_sj.head()"
   ]
  },
  {
   "cell_type": "code",
   "execution_count": 65,
   "metadata": {},
   "outputs": [
    {
     "data": {
      "text/html": [
       "<div>\n",
       "<style scoped>\n",
       "    .dataframe tbody tr th:only-of-type {\n",
       "        vertical-align: middle;\n",
       "    }\n",
       "\n",
       "    .dataframe tbody tr th {\n",
       "        vertical-align: top;\n",
       "    }\n",
       "\n",
       "    .dataframe thead th {\n",
       "        text-align: right;\n",
       "    }\n",
       "</style>\n",
       "<table border=\"1\" class=\"dataframe\">\n",
       "  <thead>\n",
       "    <tr style=\"text-align: right;\">\n",
       "      <th></th>\n",
       "      <th>city</th>\n",
       "      <th>year</th>\n",
       "      <th>weekofyear</th>\n",
       "      <th>total_cases</th>\n",
       "    </tr>\n",
       "  </thead>\n",
       "  <tbody>\n",
       "    <tr>\n",
       "      <th>0</th>\n",
       "      <td>iq</td>\n",
       "      <td>2010</td>\n",
       "      <td>26</td>\n",
       "      <td>0</td>\n",
       "    </tr>\n",
       "    <tr>\n",
       "      <th>1</th>\n",
       "      <td>iq</td>\n",
       "      <td>2010</td>\n",
       "      <td>27</td>\n",
       "      <td>2</td>\n",
       "    </tr>\n",
       "    <tr>\n",
       "      <th>2</th>\n",
       "      <td>iq</td>\n",
       "      <td>2010</td>\n",
       "      <td>28</td>\n",
       "      <td>9</td>\n",
       "    </tr>\n",
       "    <tr>\n",
       "      <th>3</th>\n",
       "      <td>iq</td>\n",
       "      <td>2010</td>\n",
       "      <td>29</td>\n",
       "      <td>-2</td>\n",
       "    </tr>\n",
       "    <tr>\n",
       "      <th>4</th>\n",
       "      <td>iq</td>\n",
       "      <td>2010</td>\n",
       "      <td>30</td>\n",
       "      <td>0</td>\n",
       "    </tr>\n",
       "  </tbody>\n",
       "</table>\n",
       "</div>"
      ],
      "text/plain": [
       "  city  year  weekofyear  total_cases\n",
       "0   iq  2010          26            0\n",
       "1   iq  2010          27            2\n",
       "2   iq  2010          28            9\n",
       "3   iq  2010          29           -2\n",
       "4   iq  2010          30            0"
      ]
     },
     "execution_count": 65,
     "metadata": {},
     "output_type": "execute_result"
    }
   ],
   "source": [
    "y_iq_pred = reg_iq.predict(X_test_iq)\n",
    "predict_iq['total_cases'] = y_iq_pred.round().astype(int)\n",
    "predict_iq.head()"
   ]
  },
  {
   "cell_type": "code",
   "execution_count": 66,
   "metadata": {},
   "outputs": [
    {
     "data": {
      "text/html": [
       "<div>\n",
       "<style scoped>\n",
       "    .dataframe tbody tr th:only-of-type {\n",
       "        vertical-align: middle;\n",
       "    }\n",
       "\n",
       "    .dataframe tbody tr th {\n",
       "        vertical-align: top;\n",
       "    }\n",
       "\n",
       "    .dataframe thead th {\n",
       "        text-align: right;\n",
       "    }\n",
       "</style>\n",
       "<table border=\"1\" class=\"dataframe\">\n",
       "  <thead>\n",
       "    <tr style=\"text-align: right;\">\n",
       "      <th></th>\n",
       "      <th>city</th>\n",
       "      <th>year</th>\n",
       "      <th>weekofyear</th>\n",
       "      <th>total_cases</th>\n",
       "    </tr>\n",
       "  </thead>\n",
       "  <tbody>\n",
       "    <tr>\n",
       "      <th>47</th>\n",
       "      <td>sj</td>\n",
       "      <td>2009</td>\n",
       "      <td>13</td>\n",
       "      <td>-2</td>\n",
       "    </tr>\n",
       "    <tr>\n",
       "      <th>3</th>\n",
       "      <td>iq</td>\n",
       "      <td>2010</td>\n",
       "      <td>29</td>\n",
       "      <td>-2</td>\n",
       "    </tr>\n",
       "  </tbody>\n",
       "</table>\n",
       "</div>"
      ],
      "text/plain": [
       "   city  year  weekofyear  total_cases\n",
       "47   sj  2009          13           -2\n",
       "3    iq  2010          29           -2"
      ]
     },
     "execution_count": 66,
     "metadata": {},
     "output_type": "execute_result"
    }
   ],
   "source": [
    "predict_df = pd.concat([predict_sj, predict_iq], axis=0)\n",
    "predict_df[predict_df.total_cases < 0]\n"
   ]
  },
  {
   "cell_type": "code",
   "execution_count": 67,
   "metadata": {},
   "outputs": [],
   "source": [
    "predict_df.loc[predict_df.total_cases < 0, 'total_cases'] = 0\n"
   ]
  },
  {
   "cell_type": "code",
   "execution_count": 68,
   "metadata": {},
   "outputs": [],
   "source": [
    "submission_filename = 'submissions/rolling_window_RF_18:23.csv'\n",
    "predict_df.to_csv(submission_filename, index=False)"
   ]
  },
  {
   "cell_type": "code",
   "execution_count": 69,
   "metadata": {},
   "outputs": [
    {
     "data": {
      "text/html": [
       "<div>\n",
       "<style scoped>\n",
       "    .dataframe tbody tr th:only-of-type {\n",
       "        vertical-align: middle;\n",
       "    }\n",
       "\n",
       "    .dataframe tbody tr th {\n",
       "        vertical-align: top;\n",
       "    }\n",
       "\n",
       "    .dataframe thead th {\n",
       "        text-align: right;\n",
       "    }\n",
       "</style>\n",
       "<table border=\"1\" class=\"dataframe\">\n",
       "  <thead>\n",
       "    <tr style=\"text-align: right;\">\n",
       "      <th></th>\n",
       "      <th>format_city</th>\n",
       "      <th>format_year</th>\n",
       "      <th>format_weekofyear</th>\n",
       "      <th>submit_city</th>\n",
       "      <th>submit_year</th>\n",
       "      <th>submit_weekofyear</th>\n",
       "    </tr>\n",
       "  </thead>\n",
       "  <tbody>\n",
       "  </tbody>\n",
       "</table>\n",
       "</div>"
      ],
      "text/plain": [
       "Empty DataFrame\n",
       "Columns: [format_city, format_year, format_weekofyear, submit_city, submit_year, submit_weekofyear]\n",
       "Index: []"
      ]
     },
     "execution_count": 69,
     "metadata": {},
     "output_type": "execute_result"
    }
   ],
   "source": [
    "df1 = pd.read_csv('dataset/submission_format.csv', \n",
    "                  usecols=[0, 1, 2], header=0, names=['format_city', 'format_year', 'format_weekofyear'])\n",
    "\n",
    "df2 = pd.read_csv(submission_filename, \n",
    "                  usecols=[0, 1, 2], header=0, names=['submit_city', 'submit_year', 'submit_weekofyear'])\n",
    "\n",
    "df = pd.merge(df1, df2, how='left', \n",
    "              left_on=['format_city', 'format_year', 'format_weekofyear'], \n",
    "              right_on=['submit_city', 'submit_year', 'submit_weekofyear'])\n",
    "\n",
    "df[(df['format_city'] != df['submit_city']) | \n",
    "   (df['format_year'] != df['submit_year']) | \n",
    "   (df['format_weekofyear'] != df['submit_weekofyear'])]"
   ]
  },
  {
   "cell_type": "code",
   "execution_count": 77,
   "metadata": {},
   "outputs": [],
   "source": [
    "# ensemble Rooling windows and residual predictions\n",
    "residual_data = pd.read_csv('submissions/residual_prediction_weather2_RF.csv')\n",
    "rolling_data = pd.read_csv('submissions/rolling_window_RF_18:23.csv')\n",
    "\n",
    "residuals = pd.read_csv('submissions/residual_prediction_weather2_RF.csv')['total_cases']\n",
    "rolling_window = pd.read_csv('submissions/rolling_window_RF_18:23.csv')['total_cases']\n",
    "# random_forest = pd.read_csv('submissions/rolling_window_RF_18:23.csv')['total_cases'\n",
    "\n",
    "\n",
    "\n",
    "# print(mean_prediction)\n",
    "\n",
    "# submission_format = pd.read_csv('./dataset/submission_format.csv')\n",
    "\n",
    "# submission_format['total_cases'] = mean_prediction\n",
    "weighted_predictions = []\n",
    "for x in range (2, 4):\n",
    "    mean_prediction = (residuals*(1/x) + rolling_window*(1-(1/x)))\n",
    "    weighted_predictions.append(mean_prediction)\n",
    "#     mean_prediction = list(map(int, mean_prediction))\n",
    "#     print(x, mean_prediction)\n",
    "#     break\n",
    "mean_prediction = [sum(y) for y in zip(*weighted_predictions)]\n",
    "mean_prediction = [k / 2 for k in mean_prediction]\n",
    "# mean_prediction = (residuals + rolling_window + random_forest)/3\n",
    "# print(mean_prediction)\n",
    "\n",
    "submission_format = pd.read_csv('./dataset/submission_format.csv')\n",
    "submission_format['total_cases'] = mean_prediction\n",
    "submission_format['total_cases']= submission_format['total_cases'].apply(lambda x: int(x))\n",
    "# print(submission_format['total_cases'])\n",
    "# submission_format['total_cases'] = mean_prediction\n",
    "# Save to CSV, use current date\n",
    "submission_format.to_csv('./submissions/ensemble_rf_gb_13-51.csv', index=False)"
   ]
  },
  {
   "cell_type": "code",
   "execution_count": 103,
   "metadata": {},
   "outputs": [
    {
     "name": "stdout",
     "output_type": "stream",
     "text": [
      "416\n"
     ]
    }
   ],
   "source": [
    "# ensemble Rooling windows and residual predictions\n",
    "residual_data = pd.read_csv('submissions/residual_prediction_weather2_RF.csv')\n",
    "rolling_data = pd.read_csv('submissions/rolling_window_RF_18:23.csv')\n",
    "\n",
    "sj_res = residual_data.loc[residual_data.city == 'sj', :]\n",
    "sj_roll = rolling_data.loc[rolling_data.city == 'sj', :]\n",
    "sj_res_cases = sj_res['total_cases']\n",
    "sj_roll_cases = sj_roll['total_cases']\n",
    "\n",
    "\n",
    "iq_res = residual_data.loc[residual_data.city == 'iq', :]\n",
    "iq_roll = rolling_data.loc[rolling_data.city == 'iq', :]\n",
    "iq_res_cases = iq_res['total_cases']\n",
    "iq_roll_cases = iq_roll['total_cases']\n",
    "\n",
    "\n",
    "weighted_predictions = []\n",
    "for x in range (3, 4):\n",
    "    mean_sj_prediction = (sj_res_cases*(1/x) + sj_roll_cases*(1-(1/x)))\n",
    "    weighted_predictions.append(mean_sj_prediction)\n",
    "#     mean_prediction = list(map(int, mean_prediction))\n",
    "#     print(x, mean_prediction)\n",
    "#     break\n",
    "\n",
    "# print(weighted_predictions)\n",
    "\n",
    "mean_sj_prediction = [sum(y) for y in zip(*weighted_predictions)]\n",
    "mean_sj_prediction = [k / 1 for k in mean_sj_prediction]\n",
    "\n",
    "weighted_predictions = []\n",
    "for x in range (4, 5):\n",
    "    mean_iq_prediction = (iq_res_cases*(1/x) + iq_roll_cases*(1-(1/x)))\n",
    "    weighted_predictions.append(mean_iq_prediction)\n",
    "    \n",
    "    \n",
    "mean_iq_prediction = [sum(y) for y in zip(*weighted_predictions)]\n",
    "mean_iq_prediction = [k / 1 for k in mean_iq_prediction]\n",
    "\n",
    "for i in mean_iq_prediction:\n",
    "    mean_sj_prediction.append(i)\n",
    "mean_prediction = mean_sj_prediction \n",
    "print(len(mean_prediction))\n",
    "\n",
    "\n",
    "submission_format = pd.read_csv('./dataset/submission_format.csv')\n",
    "submission_format['total_cases'] = mean_prediction\n",
    "submission_format['total_cases']= submission_format['total_cases'].apply(lambda x: int(x))\n",
    "# print(submission_format['total_cases'])\n",
    "# submission_format['total_cases'] = mean_prediction\n",
    "# Save to CSV, use current date\n",
    "submission_format.to_csv('./submissions/ensemble_hybrid1.csv', index=False)"
   ]
  },
  {
   "cell_type": "code",
   "execution_count": 71,
   "metadata": {},
   "outputs": [
    {
     "data": {
      "text/plain": [
       "Text(0,0.5,'Cases')"
      ]
     },
     "execution_count": 71,
     "metadata": {},
     "output_type": "execute_result"
    },
    {
     "data": {
      "image/png": "[encoded data removed]",
      "text/plain": [
       "<Figure size 1152x432 with 1 Axes>"
      ]
     },
     "metadata": {},
     "output_type": "display_data"
    }
   ],
   "source": [
    "residuals = pd.read_csv('submissions/residual_prediction_1.csv')['total_cases']\n",
    "rolling_window = pd.read_csv('submissions/rolling_window_GB_18:23.csv')['total_cases']\n",
    "# random_forest = pd.read_csv('submissions/rolling_window_RF_18:23.csv')['total_cases']\n",
    "\n",
    "ensemble_pred = pd.read_csv('submissions/ensemble_07-19-22-31_weighted_3_rounds.csv')\n",
    "\n",
    "plt.figure(figsize=(16, 6))\n",
    "plt.plot(residuals.index, residuals, label = 'Residual Prediction', linewidth = 3, alpha = .75)\n",
    "plt.plot(rolling_window.index, rolling_window, label = 'Gadient Boosting', linewidth = 3)\n",
    "plt.plot(ensemble_pred.index, ensemble_pred.total_cases, label = 'Ensemble Model', linewidth = 3)\n",
    "\n",
    "# print (mean_absolute_error(pred_cases[:520], cases_iq))\n",
    "\n",
    "plt.legend(fontsize=25)\n",
    "plt.xlabel('Date', fontsize = 25)\n",
    "plt.ylabel('Cases', fontsize = 25)"
   ]
  },
  {
   "cell_type": "code",
   "execution_count": null,
   "metadata": {},
   "outputs": [],
   "source": []
  }
 ],
 "metadata": {
  "kernelspec": {
   "display_name": "Python 3",
   "language": "python",
   "name": "python3"
  },
  "language_info": {
   "codemirror_mode": {
    "name": "ipython",
    "version": 3
   },
   "file_extension": ".py",
   "mimetype": "text/x-python",
   "name": "python",
   "nbconvert_exporter": "python",
   "pygments_lexer": "ipython3",
   "version": "3.6.5"
  }
 },
 "nbformat": 4,
 "nbformat_minor": 2
}
